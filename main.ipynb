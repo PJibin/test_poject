{
  "nbformat": 4,
  "nbformat_minor": 0,
  "metadata": {
    "colab": {
      "name": "main.ipynb",
      "provenance": [],
      "collapsed_sections": [],
      "authorship_tag": "ABX9TyOS/Kf9G1IDGqgqSuwpEWxU",
      "include_colab_link": true
    },
    "kernelspec": {
      "name": "python3",
      "display_name": "Python 3"
    },
    "language_info": {
      "name": "python"
    },
    "accelerator": "GPU",
    "gpuClass": "standard"
  },
  "cells": [
    {
      "cell_type": "markdown",
      "metadata": {
        "id": "view-in-github",
        "colab_type": "text"
      },
      "source": [
        "<a href=\"https://colab.research.google.com/github/PJibin/test_poject/blob/main/main.ipynb\" target=\"_parent\"><img src=\"https://colab.research.google.com/assets/colab-badge.svg\" alt=\"Open In Colab\"/></a>"
      ]
    },
    {
      "cell_type": "code",
      "execution_count": 1,
      "metadata": {
        "colab": {
          "base_uri": "https://localhost:8080/"
        },
        "id": "OQ_85opIWiFF",
        "outputId": "7dd9c9b0-7445-4b64-b5db-075ecfac2273"
      },
      "outputs": [
        {
          "output_type": "stream",
          "name": "stdout",
          "text": [
            "Mounted at ./MyDrive\n"
          ]
        }
      ],
      "source": [
        "from google.colab import drive\n",
        "drive.mount ('./MyDrive')"
      ]
    },
    {
      "cell_type": "code",
      "source": [
        "cd MyDrive/MyDrive"
      ],
      "metadata": {
        "colab": {
          "base_uri": "https://localhost:8080/"
        },
        "id": "EE2dUWiAYvPD",
        "outputId": "a1ad529b-8972-4388-e153-1d7995e490ee"
      },
      "execution_count": 2,
      "outputs": [
        {
          "output_type": "stream",
          "name": "stdout",
          "text": [
            "/content/MyDrive/MyDrive\n"
          ]
        }
      ]
    },
    {
      "cell_type": "code",
      "source": [
        "import os\n",
        "import sys\n",
        "import cv2\n",
        "import numpy as np\n",
        "from glob import glob"
      ],
      "metadata": {
        "id": "9pwqzj3-Y2VV"
      },
      "execution_count": 3,
      "outputs": []
    },
    {
      "cell_type": "code",
      "source": [
        "class preprocessing:\n",
        "    def __init__(self, resize_size):\n",
        "        self.resize_size = resize_size\n",
        "    \n",
        "    def resize(self, img):\n",
        "        resize_img = cv2.resize(img, (self.resize_size, self.resize_size))\n",
        "        return resize_img\n",
        "    \n",
        "    def normalize_img(self, img):\n",
        "        norm_img = img / 255.0\n",
        "        return norm_img"
      ],
      "metadata": {
        "id": "sSgw7KCVY4-5"
      },
      "execution_count": 4,
      "outputs": []
    },
    {
      "cell_type": "code",
      "source": [
        "datapath = './fruit/train'\n",
        "img_list = glob(os.path.join(datapath, '*.jpg'))\n",
        "annot_list = glob(os.path.join(datapath, '*.xml'))\n",
        "prepro_img = preprocessing(resize_size=244)\n",
        "\n",
        "for file in img_list:\n",
        "    print(file)\n",
        "    img = cv2.imread(file)\n",
        "    resize_img = prepro_img.resize(img)\n",
        "    norm_img = prepro_img.normalize_img(resize_img)\n",
        "\n"
      ],
      "metadata": {
        "colab": {
          "base_uri": "https://localhost:8080/"
        },
        "id": "A7MoPMbqY6lD",
        "outputId": "0f7a9a6c-1f22-44a4-ddc7-e851c4988f36"
      },
      "execution_count": 5,
      "outputs": [
        {
          "output_type": "stream",
          "name": "stdout",
          "text": [
            "./fruit/train/apple_52.jpg\n",
            "./fruit/train/banana_14.jpg\n",
            "./fruit/train/banana_34.jpg\n",
            "./fruit/train/apple_7.jpg\n",
            "./fruit/train/banana_44.jpg\n",
            "./fruit/train/apple_32.jpg\n",
            "./fruit/train/banana_5.jpg\n",
            "./fruit/train/apple_53.jpg\n",
            "./fruit/train/banana_32.jpg\n",
            "./fruit/train/banana_75.jpg\n",
            "./fruit/train/banana_43.jpg\n",
            "./fruit/train/apple_62.jpg\n",
            "./fruit/train/banana_68.jpg\n",
            "./fruit/train/apple_63.jpg\n",
            "./fruit/train/apple_44.jpg\n",
            "./fruit/train/banana_50.jpg\n",
            "./fruit/train/banana_2.jpg\n",
            "./fruit/train/banana_48.jpg\n",
            "./fruit/train/banana_51.jpg\n",
            "./fruit/train/apple_38.jpg\n",
            "./fruit/train/apple_1.jpg\n",
            "./fruit/train/banana_42.jpg\n",
            "./fruit/train/apple_16.jpg\n",
            "./fruit/train/banana_11.jpg\n",
            "./fruit/train/banana_59.jpg\n",
            "./fruit/train/apple_64.jpg\n",
            "./fruit/train/apple_48.jpg\n",
            "./fruit/train/banana_24.jpg\n",
            "./fruit/train/apple_35.jpg\n",
            "./fruit/train/apple_57.jpg\n",
            "./fruit/train/banana_36.jpg\n",
            "./fruit/train/banana_8.jpg\n",
            "./fruit/train/banana_74.jpg\n",
            "./fruit/train/apple_14.jpg\n",
            "./fruit/train/banana_55.jpg\n",
            "./fruit/train/banana_10.jpg\n",
            "./fruit/train/banana_66.jpg\n",
            "./fruit/train/banana_69.jpg\n",
            "./fruit/train/apple_68.jpg\n",
            "./fruit/train/banana_9.jpg\n",
            "./fruit/train/banana_21.jpg\n",
            "./fruit/train/banana_53.jpg\n",
            "./fruit/train/apple_2.jpg\n",
            "./fruit/train/banana_12.jpg\n",
            "./fruit/train/apple_71.jpg\n",
            "./fruit/train/apple_3.jpg\n",
            "./fruit/train/apple_25.jpg\n",
            "./fruit/train/apple_61.jpg\n",
            "./fruit/train/apple_75.jpg\n",
            "./fruit/train/banana_4.jpg\n",
            "./fruit/train/apple_22.jpg\n",
            "./fruit/train/apple_58.jpg\n",
            "./fruit/train/apple_66.jpg\n",
            "./fruit/train/apple_45.jpg\n",
            "./fruit/train/banana_56.jpg\n",
            "./fruit/train/banana_26.jpg\n",
            "./fruit/train/banana_71.jpg\n",
            "./fruit/train/apple_50.jpg\n",
            "./fruit/train/apple_39.jpg\n",
            "./fruit/train/banana_13.jpg\n",
            "./fruit/train/apple_9.jpg\n",
            "./fruit/train/banana_52.jpg\n",
            "./fruit/train/banana_40.jpg\n",
            "./fruit/train/banana_64.jpg\n",
            "./fruit/train/apple_43.jpg\n",
            "./fruit/train/banana_30.jpg\n",
            "./fruit/train/banana_35.jpg\n",
            "./fruit/train/banana_1.jpg\n",
            "./fruit/train/banana_45.jpg\n",
            "./fruit/train/banana_46.jpg\n",
            "./fruit/train/banana_49.jpg\n",
            "./fruit/train/apple_12.jpg\n",
            "./fruit/train/banana_7.jpg\n",
            "./fruit/train/apple_23.jpg\n",
            "./fruit/train/apple_47.jpg\n",
            "./fruit/train/apple_73.jpg\n",
            "./fruit/train/apple_5.jpg\n",
            "./fruit/train/banana_37.jpg\n",
            "./fruit/train/apple_13.jpg\n",
            "./fruit/train/apple_69.jpg\n",
            "./fruit/train/apple_70.jpg\n",
            "./fruit/train/banana_73.jpg\n",
            "./fruit/train/banana_39.jpg\n",
            "./fruit/train/banana_27.jpg\n",
            "./fruit/train/apple_24.jpg\n",
            "./fruit/train/apple_28.jpg\n",
            "./fruit/train/banana_38.jpg\n",
            "./fruit/train/apple_51.jpg\n",
            "./fruit/train/apple_74.jpg\n",
            "./fruit/train/banana_17.jpg\n",
            "./fruit/train/apple_11.jpg\n",
            "./fruit/train/banana_57.jpg\n",
            "./fruit/train/apple_27.jpg\n",
            "./fruit/train/apple_59.jpg\n",
            "./fruit/train/apple_10.jpg\n",
            "./fruit/train/apple_41.jpg\n",
            "./fruit/train/apple_37.jpg\n",
            "./fruit/train/apple_4.jpg\n",
            "./fruit/train/banana_72.jpg\n",
            "./fruit/train/apple_33.jpg\n",
            "./fruit/train/apple_20.jpg\n",
            "./fruit/train/apple_18.jpg\n",
            "./fruit/train/banana_16.jpg\n",
            "./fruit/train/banana_29.jpg\n",
            "./fruit/train/apple_26.jpg\n",
            "./fruit/train/apple_21.jpg\n",
            "./fruit/train/banana_47.jpg\n",
            "./fruit/train/apple_49.jpg\n",
            "./fruit/train/banana_31.jpg\n",
            "./fruit/train/apple_31.jpg\n",
            "./fruit/train/apple_8.jpg\n",
            "./fruit/train/banana_28.jpg\n",
            "./fruit/train/banana_60.jpg\n",
            "./fruit/train/banana_20.jpg\n",
            "./fruit/train/banana_3.jpg\n",
            "./fruit/train/banana_41.jpg\n",
            "./fruit/train/banana_23.jpg\n",
            "./fruit/train/apple_46.jpg\n",
            "./fruit/train/apple_40.jpg\n",
            "./fruit/train/apple_15.jpg\n",
            "./fruit/train/apple_55.jpg\n",
            "./fruit/train/apple_42.jpg\n",
            "./fruit/train/banana_25.jpg\n",
            "./fruit/train/apple_72.jpg\n",
            "./fruit/train/banana_6.jpg\n",
            "./fruit/train/banana_67.jpg\n",
            "./fruit/train/banana_62.jpg\n",
            "./fruit/train/banana_63.jpg\n",
            "./fruit/train/banana_65.jpg\n",
            "./fruit/train/banana_76.jpg\n",
            "./fruit/train/apple_76.jpg\n",
            "./fruit/train/apple_60.jpg\n",
            "./fruit/train/banana_61.jpg\n",
            "./fruit/train/banana_33.jpg\n",
            "./fruit/train/apple_67.jpg\n",
            "./fruit/train/apple_6.jpg\n",
            "./fruit/train/banana_70.jpg\n",
            "./fruit/train/apple_29.jpg\n",
            "./fruit/train/apple_30.jpg\n",
            "./fruit/train/apple_36.jpg\n",
            "./fruit/train/apple_56.jpg\n",
            "./fruit/train/apple_65.jpg\n",
            "./fruit/train/banana_54.jpg\n",
            "./fruit/train/banana_58.jpg\n",
            "./fruit/train/banana_22.jpg\n",
            "./fruit/train/apple_54.jpg\n",
            "./fruit/train/apple_17.jpg\n",
            "./fruit/train/apple_19.jpg\n",
            "./fruit/train/orange_58.jpg\n",
            "./fruit/train/orange_18.jpg\n",
            "./fruit/train/orange_71.jpg\n",
            "./fruit/train/orange_15.jpg\n",
            "./fruit/train/orange_46.jpg\n",
            "./fruit/train/mixed_7.jpg\n",
            "./fruit/train/orange_28.jpg\n",
            "./fruit/train/orange_37.jpg\n",
            "./fruit/train/mixed_19.jpg\n",
            "./fruit/train/mixed_20.jpg\n",
            "./fruit/train/mixed_14.jpg\n",
            "./fruit/train/orange_20.jpg\n",
            "./fruit/train/orange_13.jpg\n",
            "./fruit/train/orange_27.jpg\n",
            "./fruit/train/orange_7.jpg\n",
            "./fruit/train/orange_55.jpg\n",
            "./fruit/train/mixed_18.jpg\n",
            "./fruit/train/orange_22.jpg\n",
            "./fruit/train/orange_6.jpg\n",
            "./fruit/train/orange_34.jpg\n",
            "./fruit/train/orange_1.jpg\n",
            "./fruit/train/orange_14.jpg\n",
            "./fruit/train/mixed_12.jpg\n",
            "./fruit/train/orange_3.jpg\n",
            "./fruit/train/orange_49.jpg\n",
            "./fruit/train/mixed_5.jpg\n",
            "./fruit/train/orange_48.jpg\n",
            "./fruit/train/orange_63.jpg\n",
            "./fruit/train/mixed_6.jpg\n",
            "./fruit/train/orange_41.jpg\n",
            "./fruit/train/orange_74.jpg\n",
            "./fruit/train/orange_8.jpg\n",
            "./fruit/train/orange_52.jpg\n",
            "./fruit/train/orange_35.jpg\n",
            "./fruit/train/orange_2.jpg\n",
            "./fruit/train/orange_54.jpg\n",
            "./fruit/train/orange_10.jpg\n",
            "./fruit/train/orange_5.jpg\n",
            "./fruit/train/orange_36.jpg\n",
            "./fruit/train/orange_33.jpg\n",
            "./fruit/train/orange_26.jpg\n",
            "./fruit/train/orange_56.jpg\n",
            "./fruit/train/orange_62.jpg\n",
            "./fruit/train/orange_38.jpg\n",
            "./fruit/train/orange_42.jpg\n",
            "./fruit/train/orange_11.jpg\n",
            "./fruit/train/mixed_8.jpg\n",
            "./fruit/train/orange_24.jpg\n",
            "./fruit/train/orange_67.jpg\n",
            "./fruit/train/orange_44.jpg\n",
            "./fruit/train/orange_29.jpg\n",
            "./fruit/train/orange_60.jpg\n",
            "./fruit/train/orange_70.jpg\n",
            "./fruit/train/orange_19.jpg\n",
            "./fruit/train/orange_51.jpg\n",
            "./fruit/train/mixed_17.jpg\n",
            "./fruit/train/orange_21.jpg\n",
            "./fruit/train/orange_17.jpg\n",
            "./fruit/train/orange_73.jpg\n",
            "./fruit/train/orange_50.jpg\n",
            "./fruit/train/orange_30.jpg\n",
            "./fruit/train/orange_69.jpg\n",
            "./fruit/train/orange_12.jpg\n",
            "./fruit/train/orange_40.jpg\n",
            "./fruit/train/mixed_2.jpg\n",
            "./fruit/train/mixed_13.jpg\n",
            "./fruit/train/orange_57.jpg\n",
            "./fruit/train/mixed_4.jpg\n",
            "./fruit/train/orange_16.jpg\n",
            "./fruit/train/mixed_10.jpg\n",
            "./fruit/train/mixed_11.jpg\n",
            "./fruit/train/orange_25.jpg\n",
            "./fruit/train/orange_59.jpg\n",
            "./fruit/train/orange_76.jpg\n",
            "./fruit/train/mixed_1.jpg\n",
            "./fruit/train/mixed_3.jpg\n",
            "./fruit/train/orange_23.jpg\n",
            "./fruit/train/orange_9.jpg\n",
            "./fruit/train/orange_43.jpg\n",
            "./fruit/train/orange_68.jpg\n",
            "./fruit/train/orange_75.jpg\n",
            "./fruit/train/mixed_9.jpg\n",
            "./fruit/train/orange_53.jpg\n",
            "./fruit/train/mixed_15.jpg\n",
            "./fruit/train/orange_31.jpg\n",
            "./fruit/train/orange_61.jpg\n",
            "./fruit/train/orange_64.jpg\n",
            "./fruit/train/orange_32.jpg\n",
            "./fruit/train/orange_72.jpg\n",
            "./fruit/train/orange_47.jpg\n",
            "./fruit/train/mixed_16.jpg\n",
            "./fruit/train/orange_4.jpg\n"
          ]
        }
      ]
    },
    {
      "cell_type": "code",
      "source": [
        "import os\n",
        "import glob\n",
        "import matplotlib.pyplot as plt\n",
        "import matplotlib.image as mpimg\n",
        "import matplotlib.patches as patches\n",
        "from bs4 import BeautifulSoup"
      ],
      "metadata": {
        "id": "EzVHZyMlKqwH"
      },
      "execution_count": 6,
      "outputs": []
    },
    {
      "cell_type": "code",
      "source": [
        "print(len(img_list))\n",
        "print(len(annot_list))"
      ],
      "metadata": {
        "colab": {
          "base_uri": "https://localhost:8080/"
        },
        "id": "qI-0_u1ZXxxl",
        "outputId": "73e5e3c6-24a8-4c94-9d53-21aed5d72ce5"
      },
      "execution_count": 7,
      "outputs": [
        {
          "output_type": "stream",
          "name": "stdout",
          "text": [
            "240\n",
            "240\n"
          ]
        }
      ]
    },
    {
      "cell_type": "code",
      "source": [
        "img_list.sort(reverse=True)\n",
        "annot_list.sort(reverse=True)\n",
        "print(img_list[:10])\n",
        "print(annot_list[:10])"
      ],
      "metadata": {
        "colab": {
          "base_uri": "https://localhost:8080/"
        },
        "id": "-9GTHXUIX_Pq",
        "outputId": "f9d45cf2-99e8-469e-87dc-fde36a2d1388"
      },
      "execution_count": 14,
      "outputs": [
        {
          "output_type": "stream",
          "name": "stdout",
          "text": [
            "['./fruit/train/orange_9.jpg', './fruit/train/orange_8.jpg', './fruit/train/orange_76.jpg', './fruit/train/orange_75.jpg', './fruit/train/orange_74.jpg', './fruit/train/orange_73.jpg', './fruit/train/orange_72.jpg', './fruit/train/orange_71.jpg', './fruit/train/orange_70.jpg', './fruit/train/orange_7.jpg']\n",
            "['./fruit/train/orange_9.xml', './fruit/train/orange_8.xml', './fruit/train/orange_76.xml', './fruit/train/orange_75.xml', './fruit/train/orange_74.xml', './fruit/train/orange_73.xml', './fruit/train/orange_72.xml', './fruit/train/orange_71.xml', './fruit/train/orange_70.xml', './fruit/train/orange_7.xml']\n"
          ]
        }
      ]
    },
    {
      "cell_type": "code",
      "source": [
        "def generate_box(obj):\n",
        "    \n",
        "    xmin = float(obj.find('xmin').text)\n",
        "    ymin = float(obj.find('ymin').text)\n",
        "    xmax = float(obj.find('xmax').text)\n",
        "    ymax = float(obj.find('ymax').text)\n",
        "    \n",
        "    return [xmin, ymin, xmax, ymax]\n",
        "\n",
        "def generate_label(obj):\n",
        "    if obj.find('name').text == \"with_mask\":\n",
        "        return 1\n",
        "    elif obj.find('name').text == \"mask_weared_incorrect\":\n",
        "        return 2\n",
        "    return 0\n",
        "\n",
        "def generate_target(file): \n",
        "    with open(file) as f:\n",
        "        data = f.read()\n",
        "        soup = BeautifulSoup(data, \"html.parser\")\n",
        "        objects = soup.find_all(\"object\")\n",
        "\n",
        "        num_objs = len(objects)\n",
        "\n",
        "        boxes = []\n",
        "        labels = []\n",
        "        for i in objects:\n",
        "            boxes.append(generate_box(i))\n",
        "            labels.append(generate_label(i))\n",
        "        \n",
        "        target = {}\n",
        "        target[\"boxes\"] = boxes\n",
        "        target[\"labels\"] = labels\n",
        "        \n",
        "        return target\n",
        "\n",
        "def plot_image(img_path, annotation):\n",
        "    \n",
        "    img = mpimg.imread(img_path)\n",
        "    \n",
        "    fig,ax = plt.subplots(1)\n",
        "    ax.imshow(img)\n",
        "\n",
        "    \n",
        "    for idx in range(len(annotation[\"boxes\"])):\n",
        "        xmin, ymin, xmax, ymax = annotation[\"boxes\"][idx]\n",
        "\n",
        "        if annotation['labels'][idx] == 0 :\n",
        "            rect = patches.Rectangle((xmin,ymin),(xmax-xmin),(ymax-ymin),linewidth=1,edgecolor='r',facecolor='none')\n",
        "        \n",
        "        elif annotation['labels'][idx] == 1 :\n",
        "            \n",
        "            rect = patches.Rectangle((xmin,ymin),(xmax-xmin),(ymax-ymin),linewidth=1,edgecolor='g',facecolor='none')\n",
        "            \n",
        "        else :\n",
        "        \n",
        "            rect = patches.Rectangle((xmin,ymin),(xmax-xmin),(ymax-ymin),linewidth=1,edgecolor='orange',facecolor='none')\n",
        "\n",
        "        ax.add_patch(rect)\n",
        "\n",
        "    plt.show()"
      ],
      "metadata": {
        "id": "MXpMCEqkYO5O"
      },
      "execution_count": 15,
      "outputs": []
    },
    {
      "cell_type": "code",
      "source": [
        "bbox = generate_target(annot_list[40])\n",
        "plot_image(img_list[40], bbox)"
      ],
      "metadata": {
        "colab": {
          "base_uri": "https://localhost:8080/",
          "height": 269
        },
        "id": "0rsUpM_7YL0o",
        "outputId": "70732150-898a-4b75-913b-b9e39f905312"
      },
      "execution_count": 18,
      "outputs": [
        {
          "output_type": "display_data",
          "data": {
            "text/plain": [
              "<Figure size 432x288 with 1 Axes>"
            ],
            "image/png": "[encoded data removed]"
          },
          "metadata": {
            "needs_background": "light"
          }
        }
      ]
    },
    {
      "cell_type": "code",
      "source": [
        ""
      ],
      "metadata": {
        "id": "ULWGEK6wZA9W"
      },
      "execution_count": null,
      "outputs": []
    }
  ]
}