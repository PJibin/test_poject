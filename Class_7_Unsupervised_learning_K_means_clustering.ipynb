{
  "nbformat": 4,
  "nbformat_minor": 0,
  "metadata": {
    "colab": {
      "name": "Class 7. Unsupervised learning K-means clustering.ipynb",
      "provenance": [],
      "authorship_tag": "ABX9TyNjV0kGmAZOZGmaJ6bLTux9",
      "include_colab_link": true
    },
    "kernelspec": {
      "name": "python3",
      "display_name": "Python 3"
    },
    "language_info": {
      "name": "python"
    }
  },
  "cells": [
    {
      "cell_type": "markdown",
      "metadata": {
        "id": "view-in-github",
        "colab_type": "text"
      },
      "source": [
        "<a href=\"https://colab.research.google.com/github/PJibin/test_poject/blob/main/Class_7_Unsupervised_learning_K_means_clustering.ipynb\" target=\"_parent\"><img src=\"https://colab.research.google.com/assets/colab-badge.svg\" alt=\"Open In Colab\"/></a>"
      ]
    },
    {
      "cell_type": "code",
      "execution_count": 1,
      "metadata": {
        "id": "ztPjZplRG_sF"
      },
      "outputs": [],
      "source": [
        "import numpy as np\n",
        "import matplotlib.pyplot as plt"
      ]
    },
    {
      "cell_type": "code",
      "source": [
        "x = 5 * np.random.randn(500)\n",
        "y = 2 * np.random.randn(500)\n",
        "\n",
        "feature = np.zeros((500,2)) \n",
        "feature[:,0] = x\n",
        "feature[:,1]= y\n",
        "\n",
        "plt.figure(figsize = (8,8)) ## 그래프 크기 설정\n",
        "plt.title('input data')   # 타이틀 입력\n",
        "plt.scatter(x,y, color = 'black') ## 색은 검정색\n",
        "\n",
        "plt.tight_layout()\n",
        "plt.show"
      ],
      "metadata": {
        "colab": {
          "base_uri": "https://localhost:8080/",
          "height": 603
        },
        "id": "atLJ7gHtHQmL",
        "outputId": "23f0e6b7-6595-486e-db47-9d17bc1d01b7"
      },
      "execution_count": 5,
      "outputs": [
        {
          "output_type": "execute_result",
          "data": {
            "text/plain": [
              "<function matplotlib.pyplot.show>"
            ]
          },
          "metadata": {},
          "execution_count": 5
        },
        {
          "output_type": "display_data",
          "data": {
            "text/plain": [
              "<Figure size 576x576 with 1 Axes>"
            ],
            "image/png": "[encoded data removed]"
          },
          "metadata": {
            "needs_background": "light"
          }
        }
      ]
    },
    {
      "cell_type": "code",
      "source": [
        "num_data = np.size(feature, axis = 0)\n",
        "num_feature = np.size(feature, axis = 1)\n",
        "\n",
        "print(f'number of data: {num_data}')\n",
        "print(f'number of fueatre: {num_feature}')"
      ],
      "metadata": {
        "colab": {
          "base_uri": "https://localhost:8080/"
        },
        "id": "7DO-gK_NHZ_r",
        "outputId": "2ab6cb1c-2713-46cd-f306-deef9b8e388d"
      },
      "execution_count": 8,
      "outputs": [
        {
          "output_type": "stream",
          "name": "stdout",
          "text": [
            "number of data: 500\n",
            "number of fueatre: 2\n"
          ]
        }
      ]
    },
    {
      "cell_type": "code",
      "source": [
        "cluster_k = 2\n",
        "iteration = 10\n",
        "loss = np.zeros(iteration)\n",
        "label_pred = np.random.randint(0,cluster_k,size=(num_data))\n",
        "distance = np.zeros((num_data, cluster_k))"
      ],
      "metadata": {
        "id": "Ou1528DSI9fE"
      },
      "execution_count": 12,
      "outputs": []
    },
    {
      "cell_type": "code",
      "source": [
        "center = np.zeros(shape = (cluster_k,num_feature)) #2*2행열\n",
        "cluster_1 = feature[np.where(label_pred==0)]\n",
        "center[0] = np.sum(cluster_1, axis = 0)/ len(cluster_1)\n",
        "cluster_2 = feature[np.where(label_pred ==1)]\n",
        "center[1] = np.sum(cluster_2, axis = 0)/ len(cluster_2)\n",
        "center"
      ],
      "metadata": {
        "colab": {
          "base_uri": "https://localhost:8080/"
        },
        "id": "gKtYXvEBJ4ee",
        "outputId": "87402b84-1692-4ea6-8794-92463b32b0f2"
      },
      "execution_count": 16,
      "outputs": [
        {
          "output_type": "execute_result",
          "data": {
            "text/plain": [
              "array([[-0.54246885,  0.12804236],\n",
              "       [-0.31925052,  0.12741496]])"
            ]
          },
          "metadata": {},
          "execution_count": 16
        }
      ]
    },
    {
      "cell_type": "code",
      "source": [
        "loss_1 = np.sum((feature-center[0])**2,axis =1)\n",
        "loss_1"
      ],
      "metadata": {
        "colab": {
          "base_uri": "https://localhost:8080/"
        },
        "id": "LHLeclJjKdzo",
        "outputId": "1bbd5b76-ee97-40d1-ae3b-adc929eac15e"
      },
      "execution_count": 17,
      "outputs": [
        {
          "output_type": "execute_result",
          "data": {
            "text/plain": [
              "array([7.29725378e+00, 6.76004843e+00, 3.56682745e+01, 1.83425040e+01,\n",
              "       7.59920903e+00, 9.26409965e+01, 8.56645869e-01, 4.06261964e+01,\n",
              "       1.70341398e+01, 3.75916193e+01, 3.89841525e+00, 8.11145806e+00,\n",
              "       1.38922782e+02, 7.24057527e+00, 1.71152461e+01, 7.89845816e-01,\n",
              "       4.91885537e+01, 7.28263982e+00, 2.76660666e+01, 1.08401750e+00,\n",
              "       2.74754622e+01, 2.05917468e+01, 7.02149892e+00, 8.22090882e+01,\n",
              "       9.29894856e+01, 1.77928932e+01, 1.45621351e+01, 8.66326549e+00,\n",
              "       1.92629744e+01, 7.31164099e+00, 3.02211425e+01, 1.48361832e+00,\n",
              "       3.85389138e+01, 2.16762745e+02, 6.70545056e+00, 6.57915503e+00,\n",
              "       2.15535337e+02, 1.32231442e+02, 1.23304077e+01, 2.28331795e+02,\n",
              "       2.44090675e+00, 6.89029789e+00, 3.83905803e+01, 1.68242702e+01,\n",
              "       3.70719944e+01, 3.88929550e-01, 1.20765368e+02, 3.60229317e+01,\n",
              "       1.17368018e+01, 2.91342377e+00, 6.70020721e+01, 4.27444082e+01,\n",
              "       1.80616583e+00, 1.27542531e+02, 7.02486713e+00, 2.39733996e+01,\n",
              "       6.22209823e+01, 6.50540138e+01, 1.22951256e+01, 1.56740159e+00,\n",
              "       7.35987220e+01, 9.18814063e+00, 1.20526968e+01, 3.22106901e+01,\n",
              "       3.01240031e+01, 2.26006442e+00, 4.08823460e+01, 5.40132436e+00,\n",
              "       1.15162927e+02, 9.20441076e+00, 1.79699408e+02, 4.43721867e+00,\n",
              "       1.31412923e+01, 1.70795050e+01, 3.08154105e-01, 9.58735168e+01,\n",
              "       1.33778091e+01, 6.76745060e+00, 3.02151975e+01, 4.93820848e+00,\n",
              "       4.45918791e-01, 4.72784142e+01, 1.70444492e+01, 3.58470192e+01,\n",
              "       5.07918746e+00, 5.54185735e+01, 1.32512365e+00, 6.51141649e+00,\n",
              "       6.51570054e+01, 1.80436255e+02, 3.64374854e+00, 1.03539449e+01,\n",
              "       1.02788315e+01, 2.62296633e+01, 1.64179564e+01, 2.78673620e+01,\n",
              "       1.29125080e+02, 1.57614364e+00, 4.55019471e+00, 5.24567795e-01,\n",
              "       1.37240390e+02, 5.98788372e+01, 1.67018420e+00, 2.19110949e+00,\n",
              "       5.10084876e+00, 1.28420470e+02, 5.39403963e+00, 1.36717691e+02,\n",
              "       9.49194428e-01, 6.57077609e+00, 9.31780395e+00, 9.84324732e+00,\n",
              "       2.52714871e+01, 8.33560439e+00, 6.16480196e+00, 2.66112106e+01,\n",
              "       4.98152750e+00, 1.41279594e+01, 3.19226084e+01, 1.56732868e+01,\n",
              "       3.21281368e+00, 9.89823948e+01, 3.01379257e+01, 6.60185720e+01,\n",
              "       8.47476714e+01, 7.93036306e+01, 7.77240360e+00, 1.55523323e+01,\n",
              "       3.42433998e+01, 1.58403866e+01, 1.27116368e+02, 7.20317927e+00,\n",
              "       2.76184388e+01, 3.55235955e+01, 8.94652810e+01, 4.85330406e+01,\n",
              "       5.31271715e+01, 6.88356414e+01, 1.12876385e+01, 3.26738868e+01,\n",
              "       3.33743271e+00, 3.25995830e+01, 4.29662634e+01, 4.83420158e+00,\n",
              "       1.71829462e+01, 8.76699032e+01, 1.94388547e+01, 4.11000174e+00,\n",
              "       9.89341896e+00, 1.74511086e+02, 8.56503668e+01, 1.61792323e+01,\n",
              "       3.54357557e+01, 5.87234850e+01, 2.35833320e+01, 2.54473674e+01,\n",
              "       1.97665247e-01, 8.16225938e+00, 1.25039177e+02, 6.50705410e+00,\n",
              "       7.39613707e+00, 3.05645880e+00, 8.35725416e-01, 1.93528856e+01,\n",
              "       7.49946198e+01, 5.06983182e+01, 1.21384987e+01, 2.10780295e+01,\n",
              "       2.03509722e+01, 3.67005357e+00, 2.12403400e+01, 1.71024383e+00,\n",
              "       1.81507494e+01, 8.82868813e+00, 1.07026002e+01, 2.10683790e+01,\n",
              "       6.20241827e+00, 1.42978391e+00, 2.57398547e+00, 3.07405385e+00,\n",
              "       4.45915886e+00, 1.59199312e+02, 7.23940206e+00, 8.70825396e+01,\n",
              "       6.76137703e+01, 1.41657026e+01, 9.32990359e+00, 2.01728790e+00,\n",
              "       1.24369631e+01, 5.42784594e+00, 1.39866942e+02, 6.15004498e+01,\n",
              "       2.18878317e+01, 8.53677361e+00, 1.84107792e+01, 8.42590937e+00,\n",
              "       1.47226948e+01, 3.35264475e+01, 3.96172421e+00, 2.67200272e+01,\n",
              "       1.74356571e+01, 9.93651975e+00, 2.24257730e+01, 1.29538300e+01,\n",
              "       9.33765179e+00, 1.18435529e+00, 5.35603168e+00, 1.43770118e+01,\n",
              "       1.59576528e+01, 3.22210449e+01, 2.69758431e+01, 6.20886526e+00,\n",
              "       6.61624780e+01, 2.60990265e+00, 7.18721078e+00, 1.56163629e+01,\n",
              "       4.61180968e+00, 1.65481477e+01, 3.46156697e+01, 1.49828539e+01,\n",
              "       3.64521068e+00, 9.65542001e-01, 2.36351405e+01, 1.19714266e+01,\n",
              "       1.33244408e+00, 3.47400404e+01, 1.77320112e+01, 4.82732353e+00,\n",
              "       5.45515599e+00, 2.17338821e+01, 1.82569412e+01, 1.25261904e+01,\n",
              "       2.48156723e+01, 6.79459778e+01, 4.78485373e-01, 1.86381671e+00,\n",
              "       4.24985400e+01, 3.38789572e+00, 1.24083560e+00, 3.35436478e+01,\n",
              "       2.21927632e+01, 1.28592958e+01, 5.91823872e+01, 3.49769815e+01,\n",
              "       5.55984598e+00, 1.93740856e+01, 3.35805447e+01, 3.76626961e+01,\n",
              "       4.44378327e+01, 2.05048238e+01, 2.25413448e+01, 1.41501094e+01,\n",
              "       5.33500184e+00, 1.67521305e+01, 2.32896573e+01, 4.99199989e-01,\n",
              "       3.20867372e+01, 4.63144414e+01, 4.69994189e+01, 9.25836145e+00,\n",
              "       9.10393538e-02, 5.00028643e+01, 7.50353938e+00, 1.83614792e+01,\n",
              "       1.43683110e+00, 4.98369518e+00, 6.41311082e+00, 8.08462805e+00,\n",
              "       8.94329813e+00, 1.86117400e+01, 1.87532445e+01, 7.58606052e+00,\n",
              "       7.38171131e+00, 3.30912797e+00, 9.28559420e+00, 4.27404234e+00,\n",
              "       2.54417219e+01, 3.59525644e+01, 4.42158014e-01, 9.78755801e+00,\n",
              "       1.04927540e+02, 4.00897474e+00, 1.93264457e+01, 1.20431956e+02,\n",
              "       3.28988844e+00, 3.00968082e+00, 1.04068137e+01, 1.13460199e+01,\n",
              "       1.96248634e+01, 2.04473922e+01, 2.27853266e+01, 1.00988608e+02,\n",
              "       4.13678231e+01, 2.83279971e+01, 4.73662037e+00, 3.64979567e+01,\n",
              "       4.09921377e+00, 1.15174475e+01, 1.83467594e+00, 7.11113106e+01,\n",
              "       3.93175114e+00, 1.07443455e+01, 3.30733542e+01, 2.76673321e+02,\n",
              "       1.47205136e+02, 5.05326612e+00, 3.13667134e+00, 1.68846825e+00,\n",
              "       3.92800010e-01, 1.53092096e+02, 2.14522835e+00, 4.42397432e+01,\n",
              "       3.27577201e+01, 1.99100650e+01, 1.46540674e+01, 9.93880299e+00,\n",
              "       2.98397193e+01, 6.14903997e+00, 1.62993035e+00, 1.99511666e+01,\n",
              "       3.25862073e+01, 1.09015289e+01, 5.04757098e+00, 4.47844798e+01,\n",
              "       1.12358380e+01, 3.40156850e+00, 1.06128870e+01, 9.90662998e+00,\n",
              "       9.37260741e+00, 3.51892380e+00, 5.52463352e+01, 7.54750679e+00,\n",
              "       9.32083819e+01, 2.07860303e+01, 8.65350609e+01, 5.82926957e+00,\n",
              "       9.11591354e+01, 1.22360978e+01, 7.97272414e+01, 4.93266397e+01,\n",
              "       1.14459699e+01, 1.52260075e+02, 5.43356873e+01, 8.69857028e+01,\n",
              "       6.10716703e+00, 8.88537000e+00, 2.37179509e+01, 1.87846488e+01,\n",
              "       1.47764811e+01, 1.07363694e+01, 2.56525082e+01, 3.41913824e+01,\n",
              "       4.20411925e+01, 3.75165026e+01, 2.15735710e+01, 2.21830654e+01,\n",
              "       7.57695682e+01, 1.04521493e+01, 3.35283130e+01, 4.66183476e+01,\n",
              "       5.41561028e+01, 3.78478787e+00, 1.00351785e+01, 2.99212209e+01,\n",
              "       2.42341774e+01, 7.07255471e+00, 4.26104243e+00, 2.28694932e+01,\n",
              "       8.41470258e+00, 3.57435646e+01, 4.15676609e+01, 1.70491872e+01,\n",
              "       4.91340013e+00, 5.91678507e+01, 2.11139180e+01, 8.37746679e+00,\n",
              "       4.63916477e+01, 4.34436655e+01, 2.10473299e+01, 6.45283527e+01,\n",
              "       3.84916721e+01, 5.85175305e+00, 3.11593556e+01, 6.83343535e+01,\n",
              "       4.28692917e+01, 5.84889717e+01, 1.99520775e+00, 3.27292342e+00,\n",
              "       1.57823615e+01, 2.04573643e+00, 2.92140382e+01, 3.88014814e+00,\n",
              "       1.12305539e+01, 1.31419593e+01, 2.53981069e+01, 6.01071735e+00,\n",
              "       2.18791741e+01, 4.15505692e+01, 2.48999013e+01, 2.07126275e+01,\n",
              "       2.83321449e+01, 3.74771662e+01, 4.81359707e+00, 1.06445035e+01,\n",
              "       1.78203912e+01, 7.95658661e+00, 1.65921031e+01, 3.55465480e+01,\n",
              "       2.44485592e+01, 7.64275929e+00, 6.87357843e+00, 1.09985785e+02,\n",
              "       2.03270699e+01, 1.24907285e+01, 6.15394333e+00, 6.71430633e+00,\n",
              "       1.24991794e+01, 1.62832750e+01, 1.54672704e+01, 3.95039857e+01,\n",
              "       1.74654676e+01, 2.28953300e+01, 2.51693492e+01, 2.25655037e+01,\n",
              "       5.13724196e+00, 2.51398676e+01, 1.34790616e+01, 1.69210596e+00,\n",
              "       3.39871810e+01, 1.05499035e+00, 2.77144770e+00, 2.54540698e+00,\n",
              "       4.48141009e+01, 1.11406185e+00, 6.11510815e+00, 8.35840656e+00,\n",
              "       1.01441110e+01, 5.27693633e+01, 3.71738657e+00, 2.54591488e+00,\n",
              "       3.43897046e+01, 7.49465588e+01, 2.47872378e+01, 4.48930819e+01,\n",
              "       8.88905467e+01, 3.75350203e+01, 1.35069605e+00, 4.69370220e+00,\n",
              "       2.23962537e+01, 3.55046168e+01, 1.57490256e-01, 2.36853738e+01,\n",
              "       5.97866263e+00, 5.34086186e+00, 6.29728611e+00, 1.28246437e+01,\n",
              "       3.47867230e+01, 8.36864578e+00, 6.45281545e+01, 5.18093928e+01,\n",
              "       1.24682182e+01, 1.19727654e+02, 3.01042081e+01, 3.50117320e+01,\n",
              "       1.31647626e+01, 5.64004953e+01, 1.16948533e+01, 1.41432708e+01,\n",
              "       9.98460880e+00, 1.67072568e+00, 4.46363735e+01, 3.88470465e+01,\n",
              "       7.31829763e+00, 8.55433151e+01, 6.89479835e+01, 2.75344490e+01,\n",
              "       2.03868326e+01, 3.46181937e+00, 7.70187885e+01, 4.86051431e+00,\n",
              "       1.75310739e+00, 2.68007087e+01, 5.78902679e+00, 1.04431076e+01,\n",
              "       8.94795927e+00, 7.89355490e+01, 3.94771391e+01, 1.51729612e+01,\n",
              "       1.08395956e+01, 1.21103488e+01, 7.27771147e+01, 2.74712355e+01,\n",
              "       3.73636518e+00, 2.07508307e+01, 3.14558344e+01, 2.78246279e+01,\n",
              "       2.02713815e+01, 1.17224737e+01, 2.73633163e+01, 1.30584466e+02])"
            ]
          },
          "metadata": {},
          "execution_count": 17
        }
      ]
    },
    {
      "cell_type": "code",
      "source": [
        "loss_2 = np.sum((feature-center[1])**2,axis =1)\n",
        "loss_2"
      ],
      "metadata": {
        "colab": {
          "base_uri": "https://localhost:8080/"
        },
        "id": "Wt2_f1YhLQIi",
        "outputId": "7f33cbc7-774c-4dd9-99c9-02bc024cb5cf"
      },
      "execution_count": 18,
      "outputs": [
        {
          "output_type": "execute_result",
          "data": {
            "text/plain": [
              "array([6.64232307e+00, 5.94741187e+00, 3.82232921e+01, 1.65804334e+01,\n",
              "       7.22394412e+00, 8.86792990e+01, 7.32597428e-01, 4.33734929e+01,\n",
              "       1.52523191e+01, 4.03723497e+01, 4.72113788e+00, 9.37803514e+00,\n",
              "       1.33747459e+02, 6.41851290e+00, 1.90099930e+01, 6.30449261e-01,\n",
              "       4.61163354e+01, 8.14495821e+00, 2.98531066e+01, 8.28297652e-01,\n",
              "       2.98071153e+01, 2.26573137e+01, 7.79769070e+00, 8.62382224e+01,\n",
              "       8.88839650e+01, 1.95445832e+01, 1.30464589e+01, 7.48909268e+00,\n",
              "       2.12497842e+01, 8.55066235e+00, 2.78652043e+01, 1.97815902e+00,\n",
              "       3.58240673e+01, 2.23370533e+02, 5.81248979e+00, 5.69846079e+00,\n",
              "       2.09098306e+02, 1.27284810e+02, 1.35874729e+01, 2.35031308e+02,\n",
              "       2.26640122e+00, 5.99409109e+00, 3.56742768e+01, 1.84225060e+01,\n",
              "       3.97176424e+01, 6.50862191e-01, 1.15928365e+02, 3.87246337e+01,\n",
              "       1.15296336e+01, 2.20795610e+00, 7.06661758e+01, 4.04041479e+01,\n",
              "       1.98311115e+00, 1.22923060e+02, 7.84030682e+00, 2.25192719e+01,\n",
              "       5.87540726e+01, 6.86176788e+01, 1.38836299e+01, 1.06689195e+00,\n",
              "       7.74688595e+01, 7.94541696e+00, 1.06506521e+01, 2.98982004e+01,\n",
              "       3.25983784e+01, 2.90491857e+00, 3.80788646e+01, 6.42548106e+00,\n",
              "       1.10756738e+02, 8.03968697e+00, 1.73808000e+02, 3.65841140e+00,\n",
              "       1.47451660e+01, 1.72551688e+01, 5.85717682e-01, 9.16107409e+01,\n",
              "       1.49849999e+01, 5.65655530e+00, 3.26420257e+01, 5.85139433e+00,\n",
              "       2.09609586e-01, 5.00997093e+01, 1.65874197e+01, 3.85598020e+01,\n",
              "       4.13497866e+00, 5.21761312e+01, 9.00041153e-01, 5.45399594e+00,\n",
              "       6.87900568e+01, 1.86481376e+02, 4.26400546e+00, 1.18392762e+01,\n",
              "       1.17595255e+01, 2.40590540e+01, 1.51656929e+01, 2.98398596e+01,\n",
              "       1.34247298e+02, 2.01284224e+00, 4.56184487e+00, 3.34216225e-01,\n",
              "       1.32311821e+02, 5.66230299e+01, 1.68894647e+00, 2.77282865e+00,\n",
              "       5.84243704e+00, 1.23433433e+02, 5.16970321e+00, 1.31554415e+02,\n",
              "       7.73014351e-01, 7.66799962e+00, 8.01270650e+00, 1.11340388e+01,\n",
              "       2.45641997e+01, 9.61783525e+00, 6.11782732e+00, 2.88599069e+01,\n",
              "       4.39218698e+00, 1.58492387e+01, 2.94504212e+01, 1.74903158e+01,\n",
              "       3.97195213e+00, 1.03473433e+02, 2.86946716e+01, 6.30929010e+01,\n",
              "       8.07725104e+01, 7.55540475e+01, 7.12709398e+00, 1.39047204e+01,\n",
              "       3.21838651e+01, 1.74125307e+01, 1.22139396e+02, 8.36698684e+00,\n",
              "       2.58436927e+01, 3.29760614e+01, 9.35983352e+01, 5.16836663e+01,\n",
              "       5.63212973e+01, 7.25474170e+01, 1.27177248e+01, 3.07419240e+01,\n",
              "       4.15266426e+00, 3.02156022e+01, 4.57015169e+01, 4.17598356e+00,\n",
              "       1.87127044e+01, 9.18990481e+01, 1.76894263e+01, 4.43092230e+00,\n",
              "       1.06092067e+01, 1.80412220e+02, 8.96787343e+01, 1.79993740e+01,\n",
              "       3.28537942e+01, 6.21340002e+01, 2.22456824e+01, 2.56063624e+01,\n",
              "       1.07644998e-01, 9.46887259e+00, 1.30028079e+02, 7.64913782e+00,\n",
              "       6.69125776e+00, 3.63699768e+00, 8.25391617e-01, 2.11803089e+01,\n",
              "       7.88723938e+01, 5.39002836e+01, 1.33017486e+01, 2.01249515e+01,\n",
              "       1.83868288e+01, 4.33465476e+00, 2.25623026e+01, 1.28227674e+00,\n",
              "       1.63247022e+01, 9.29210293e+00, 9.60553116e+00, 1.90789701e+01,\n",
              "       6.33518215e+00, 1.89612848e+00, 3.33899546e+00, 3.61570881e+00,\n",
              "       5.11445473e+00, 1.64796851e+02, 6.09255495e+00, 8.34194107e+01,\n",
              "       7.13297781e+01, 1.28986294e+01, 9.76445467e+00, 1.63385346e+00,\n",
              "       1.15135905e+01, 6.03129097e+00, 1.34687399e+02, 6.36886460e+01,\n",
              "       2.36808219e+01, 7.52731417e+00, 2.01632542e+01, 7.76793423e+00,\n",
              "       1.30787953e+01, 3.09916625e+01, 4.82210830e+00, 2.89858086e+01,\n",
              "       1.92770708e+01, 8.58185105e+00, 2.43247533e+01, 1.13982266e+01,\n",
              "       9.83063496e+00, 1.62103181e+00, 4.38437006e+00, 1.50049875e+01,\n",
              "       1.48181624e+01, 3.12574961e+01, 2.86836617e+01, 5.14997170e+00,\n",
              "       6.26325614e+01, 3.28699824e+00, 7.56534914e+00, 1.44715302e+01,\n",
              "       3.70344288e+00, 1.83660466e+01, 3.72891537e+01, 1.58348591e+01,\n",
              "       4.43086944e+00, 1.24488439e+00, 2.58395831e+01, 1.07783340e+01,\n",
              "       1.44083378e+00, 3.73224480e+01, 1.85793379e+01, 3.91711958e+00,\n",
              "       4.87187815e+00, 2.02354388e+01, 1.64063414e+01, 1.41560367e+01,\n",
              "       2.69096805e+01, 6.43651419e+01, 4.18167704e-01, 2.28548777e+00,\n",
              "       4.05145118e+01, 4.01563432e+00, 1.35430723e+00, 3.12985182e+01,\n",
              "       2.41056532e+01, 1.28557699e+01, 5.60724691e+01, 3.24844364e+01,\n",
              "       6.42129052e+00, 1.77161815e+01, 3.61930942e+01, 3.49748937e+01,\n",
              "       4.74199182e+01, 2.23394131e+01, 2.23292886e+01, 1.27043150e+01,\n",
              "       6.39618383e+00, 1.63890154e+01, 2.54192104e+01, 2.37653011e-01,\n",
              "       3.42111066e+01, 4.92870624e+01, 4.41547060e+01, 1.00320048e+01,\n",
              "       2.55903818e-01, 4.71807027e+01, 7.02636236e+00, 2.02963772e+01,\n",
              "       1.44508038e+00, 5.86281768e+00, 5.33306464e+00, 6.93847807e+00,\n",
              "       7.65809267e+00, 2.05493293e+01, 2.03495648e+01, 7.33176602e+00,\n",
              "       7.35334770e+00, 4.14947473e+00, 1.05728707e+01, 3.41941202e+00,\n",
              "       2.75769041e+01, 3.33341462e+01, 6.77202790e-01, 1.00224871e+01,\n",
              "       1.09120557e+02, 3.24907173e+00, 2.04054973e+01, 1.15597814e+02,\n",
              "       4.02307572e+00, 3.61275302e+00, 1.15546402e+01, 9.96366394e+00,\n",
              "       1.77382348e+01, 1.88677350e+01, 2.08791382e+01, 9.66423484e+01,\n",
              "       4.42874906e+01, 2.67462139e+01, 5.75454137e+00, 3.38733201e+01,\n",
              "       5.04167184e+00, 1.22921130e+01, 2.42825911e+00, 7.48696810e+01,\n",
              "       4.49408739e+00, 1.22458032e+01, 3.55828064e+01, 2.69297330e+02,\n",
              "       1.52667937e+02, 4.67992339e+00, 2.49009633e+00, 1.46598357e+00,\n",
              "       1.63089007e-01, 1.58664594e+02, 2.64327346e+00, 4.13374008e+01,\n",
              "       3.03254407e+01, 2.18810426e+01, 1.59252712e+01, 8.69566714e+00,\n",
              "       2.77557659e+01, 6.77034720e+00, 1.10982872e+00, 2.12772189e+01,\n",
              "       3.50669531e+01, 1.08825531e+01, 4.76599009e+00, 4.19219509e+01,\n",
              "       1.24707513e+01, 4.26752416e+00, 1.21143185e+01, 8.56275662e+00,\n",
              "       8.08915400e+00, 3.79725122e+00, 5.22446549e+01, 6.37312134e+00,\n",
              "       8.94267104e+01, 1.89047563e+01, 9.05406707e+01, 6.86100793e+00,\n",
              "       9.54632846e+01, 1.38475573e+01, 8.37286062e+01, 5.19511237e+01,\n",
              "       1.02248826e+01, 1.47125372e+02, 5.20097956e+01, 8.28853942e+01,\n",
              "       6.47629093e+00, 7.64739424e+00, 2.17886790e+01, 1.73212600e+01,\n",
              "       1.63638898e+01, 1.18646333e+01, 2.79591500e+01, 3.68324620e+01,\n",
              "       4.46503503e+01, 3.48401909e+01, 2.35121814e+01, 2.38924445e+01,\n",
              "       7.97053978e+01, 9.40892743e+00, 3.10704745e+01, 4.39132021e+01,\n",
              "       5.10864502e+01, 3.54316946e+00, 1.14844721e+01, 3.21948023e+01,\n",
              "       2.63901718e+01, 7.62915570e+00, 3.43348683e+00, 2.11663027e+01,\n",
              "       7.41293099e+00, 3.31246135e+01, 3.87585592e+01, 1.54183832e+01,\n",
              "       3.98221661e+00, 5.57977090e+01, 1.93152522e+01, 8.21717380e+00,\n",
              "       4.94719377e+01, 4.05638933e+01, 2.05831335e+01, 6.79243455e+01,\n",
              "       4.06095875e+01, 6.91774093e+00, 2.87938484e+01, 6.46979922e+01,\n",
              "       4.07816165e+01, 5.51269786e+01, 1.82382463e+00, 3.78746976e+00,\n",
              "       1.41259766e+01, 1.46523885e+00, 2.74937261e+01, 3.13691654e+00,\n",
              "       1.00515620e+01, 1.44829752e+01, 2.47698503e+01, 6.84328343e+00,\n",
              "       2.38699849e+01, 3.87418289e+01, 2.44952551e+01, 2.27343105e+01,\n",
              "       2.60420137e+01, 4.02511312e+01, 4.18738475e+00, 9.24865512e+00,\n",
              "       1.95131057e+01, 6.89666973e+00, 1.53032619e+01, 3.82552940e+01,\n",
              "       2.22971319e+01, 8.01992445e+00, 5.79988847e+00, 1.06256031e+02,\n",
              "       1.86624392e+01, 1.39106093e+01, 5.64457301e+00, 6.06059620e+00,\n",
              "       1.12271011e+01, 1.45359326e+01, 1.69765136e+01, 4.22112233e+01,\n",
              "       1.92186892e+01, 2.49585176e+01, 2.68506733e+01, 2.47241993e+01,\n",
              "       4.34390438e+00, 2.32138092e+01, 1.36173539e+01, 1.43290276e+00,\n",
              "       3.15369485e+01, 1.28087646e+00, 3.54923992e+00, 3.29497328e+00,\n",
              "       4.18863650e+01, 8.81064013e-01, 6.25586309e+00, 7.21240855e+00,\n",
              "       1.13461274e+01, 4.99085794e+01, 4.36131663e+00, 3.28862192e+00,\n",
              "       3.66305248e+01, 7.85719130e+01, 2.38129003e+01, 4.79181171e+01,\n",
              "       8.47829331e+01, 4.03009722e+01, 1.06337447e+00, 4.46146256e+00,\n",
              "       2.04574214e+01, 3.82058564e+01, 3.71228628e-01, 2.16651594e+01,\n",
              "       4.98637846e+00, 5.62023355e+00, 6.20613943e+00, 1.44411323e+01,\n",
              "       3.22035595e+01, 8.29063076e+00, 6.10279160e+01, 4.86712964e+01,\n",
              "       1.12633938e+01, 1.24451408e+02, 2.78916697e+01, 3.76890518e+01,\n",
              "       1.46073930e+01, 5.31170814e+01, 1.31698316e+01, 1.28385146e+01,\n",
              "       8.65103730e+00, 2.24414707e+00, 4.76304392e+01, 4.15923302e+01,\n",
              "       8.41753900e+00, 8.15186984e+01, 6.56641124e+01, 2.98821458e+01,\n",
              "       1.95451155e+01, 2.68111798e+00, 8.08058073e+01, 4.34229436e+00,\n",
              "       1.69024753e+00, 2.91535229e+01, 4.76990354e+00, 1.17515255e+01,\n",
              "       8.68763816e+00, 7.50261325e+01, 4.16907440e+01, 1.69604877e+01,\n",
              "       9.52161795e+00, 1.08762040e+01, 7.65305577e+01, 2.98383996e+01,\n",
              "       3.01482549e+00, 1.91493914e+01, 3.35746943e+01, 3.01865527e+01,\n",
              "       2.07429657e+01, 1.30689693e+01, 2.89547590e+01, 1.25532781e+02])"
            ]
          },
          "metadata": {},
          "execution_count": 18
        }
      ]
    },
    {
      "cell_type": "code",
      "source": [
        "distance[:,0]=loss_1\n",
        "distance[:,1]=loss_2"
      ],
      "metadata": {
        "id": "OUj6aDMLLVBe"
      },
      "execution_count": 20,
      "outputs": []
    },
    {
      "cell_type": "code",
      "source": [
        "label_pred = np.argmin(distance,axis=1)\n",
        "label_pred"
      ],
      "metadata": {
        "colab": {
          "base_uri": "https://localhost:8080/"
        },
        "id": "eU2P-2zKLdS2",
        "outputId": "9b76c05a-f8b4-418a-c74b-a625661415d6"
      },
      "execution_count": 21,
      "outputs": [
        {
          "output_type": "execute_result",
          "data": {
            "text/plain": [
              "array([1, 1, 0, 1, 1, 1, 1, 0, 1, 0, 0, 0, 1, 1, 0, 1, 1, 0, 0, 1, 0, 0,\n",
              "       0, 0, 1, 0, 1, 1, 0, 0, 1, 0, 1, 0, 1, 1, 1, 1, 0, 0, 1, 1, 1, 0,\n",
              "       0, 0, 1, 0, 1, 1, 0, 1, 0, 1, 0, 1, 1, 0, 0, 1, 0, 1, 1, 1, 0, 0,\n",
              "       1, 0, 1, 1, 1, 1, 0, 0, 0, 1, 0, 1, 0, 0, 1, 0, 1, 0, 1, 1, 1, 1,\n",
              "       0, 0, 0, 0, 0, 1, 1, 0, 0, 0, 0, 1, 1, 1, 0, 0, 0, 1, 1, 1, 1, 0,\n",
              "       1, 0, 1, 0, 1, 0, 1, 0, 1, 0, 0, 0, 1, 1, 1, 1, 1, 1, 1, 0, 1, 0,\n",
              "       1, 1, 0, 0, 0, 0, 0, 1, 0, 1, 0, 1, 0, 0, 1, 0, 0, 0, 0, 0, 1, 0,\n",
              "       1, 0, 1, 0, 0, 0, 1, 0, 1, 0, 0, 0, 0, 1, 1, 0, 0, 1, 1, 0, 1, 1,\n",
              "       0, 0, 0, 0, 0, 0, 1, 1, 0, 1, 0, 1, 1, 0, 1, 0, 0, 1, 0, 1, 1, 1,\n",
              "       0, 0, 0, 1, 0, 1, 0, 0, 1, 0, 1, 1, 0, 1, 1, 0, 0, 1, 1, 0, 0, 0,\n",
              "       0, 0, 0, 1, 0, 0, 0, 1, 1, 1, 1, 0, 0, 1, 1, 0, 1, 0, 0, 1, 0, 1,\n",
              "       1, 1, 0, 1, 0, 1, 0, 0, 1, 1, 0, 1, 0, 1, 0, 0, 1, 0, 0, 1, 1, 0,\n",
              "       0, 0, 1, 1, 1, 0, 0, 1, 1, 0, 0, 1, 0, 1, 0, 0, 0, 1, 0, 1, 0, 0,\n",
              "       0, 1, 1, 1, 1, 1, 0, 1, 0, 1, 0, 0, 0, 0, 0, 0, 0, 1, 0, 1, 1, 1,\n",
              "       1, 0, 0, 1, 1, 0, 0, 1, 1, 0, 1, 0, 0, 1, 1, 1, 0, 0, 0, 1, 1, 0,\n",
              "       1, 1, 1, 1, 0, 0, 0, 0, 0, 0, 1, 1, 1, 1, 0, 1, 1, 1, 0, 0, 0, 0,\n",
              "       0, 1, 0, 0, 0, 1, 1, 1, 1, 1, 0, 0, 0, 0, 1, 1, 1, 1, 1, 1, 1, 1,\n",
              "       1, 1, 0, 1, 1, 0, 0, 0, 1, 1, 1, 1, 1, 0, 1, 1, 1, 1, 1, 0, 1, 0,\n",
              "       0, 1, 1, 0, 1, 0, 1, 1, 0, 1, 1, 0, 1, 0, 1, 1, 1, 0, 1, 1, 1, 1,\n",
              "       0, 0, 0, 0, 0, 0, 1, 1, 0, 1, 1, 0, 0, 0, 1, 1, 0, 1, 0, 1, 0, 0,\n",
              "       0, 0, 1, 0, 1, 0, 1, 1, 1, 0, 0, 1, 1, 0, 1, 0, 1, 1, 1, 1, 1, 0,\n",
              "       1, 0, 0, 1, 0, 1, 1, 0, 0, 0, 0, 1, 1, 0, 1, 1, 0, 1, 1, 0, 1, 0,\n",
              "       1, 1, 0, 0, 1, 1, 0, 0, 1, 1, 0, 0, 0, 0, 0, 1])"
            ]
          },
          "metadata": {},
          "execution_count": 21
        }
      ]
    },
    {
      "cell_type": "code",
      "source": [
        ""
      ],
      "metadata": {
        "id": "Yyhwt9sULkus"
      },
      "execution_count": null,
      "outputs": []
    }
  ]
}