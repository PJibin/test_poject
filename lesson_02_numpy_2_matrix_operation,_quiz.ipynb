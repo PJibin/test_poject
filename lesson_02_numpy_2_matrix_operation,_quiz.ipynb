{
  "cells": [
    {
      "cell_type": "markdown",
      "metadata": {
        "id": "view-in-github",
        "colab_type": "text"
      },
      "source": [
        "<a href=\"https://colab.research.google.com/github/PJibin/test_poject/blob/main/lesson_02_numpy_2_matrix_operation%2C_quiz.ipynb\" target=\"_parent\"><img src=\"https://colab.research.google.com/assets/colab-badge.svg\" alt=\"Open In Colab\"/></a>"
      ]
    },
    {
      "cell_type": "markdown",
      "metadata": {
        "id": "od29HQR3ycY6"
      },
      "source": [
        "### numpy로 작성하는 행렬"
      ]
    },
    {
      "cell_type": "markdown",
      "metadata": {
        "id": "ihsznwaRycY9"
      },
      "source": [
        "#### 행렬의 합\n",
        "\n",
        "$$\n",
        "    \\begin{pmatrix}\n",
        "    1 & 2 & 3 \\\\\n",
        "    4 & 5 & 6 \\\\\n",
        "    \\end{pmatrix}\n",
        "    +\n",
        "    \\begin{pmatrix}\n",
        "    4 & 5 & 6 \\\\\n",
        "    1 & 2 & 3 \\\\\n",
        "    \\end{pmatrix}\n",
        "$$\n",
        "   "
      ]
    },
    {
      "cell_type": "markdown",
      "metadata": {
        "id": "VK7bdORzycY_"
      },
      "source": [
        "#### 기본적인 list 연산도 구현 가능?"
      ]
    },
    {
      "cell_type": "code",
      "execution_count": 1,
      "metadata": {
        "ExecuteTime": {
          "end_time": "2021-02-02T02:13:40.650498Z",
          "start_time": "2021-02-02T02:13:40.634546Z"
        },
        "colab": {
          "base_uri": "https://localhost:8080/"
        },
        "id": "uVjCGVO4ycY_",
        "outputId": "0c3fde64-d5ed-4ccd-9e33-3fb8a84bf493"
      },
      "outputs": [
        {
          "output_type": "execute_result",
          "data": {
            "text/plain": [
              "[[1, 2, 3], [4, 5, 6], [4, 5, 6], [1, 2, 3]]"
            ]
          },
          "metadata": {},
          "execution_count": 1
        }
      ],
      "source": [
        "A = [[1, 2, 3], [4, 5, 6]]\n",
        "B = [[4, 5, 6], [1, 2, 3]]\n",
        "A+B # ? "
      ]
    },
    {
      "cell_type": "markdown",
      "metadata": {
        "id": "mHheLm8rycZB"
      },
      "source": [
        "#####  list에서 요소들의 합 구현은 쉽지 않음"
      ]
    },
    {
      "cell_type": "code",
      "execution_count": 2,
      "metadata": {
        "ExecuteTime": {
          "end_time": "2021-02-02T02:17:11.251302Z",
          "start_time": "2021-02-02T02:17:11.235330Z"
        },
        "colab": {
          "base_uri": "https://localhost:8080/"
        },
        "id": "2WRSa1qgycZB",
        "outputId": "eb04e49b-69ae-43b4-f462-9271be12800f"
      },
      "outputs": [
        {
          "output_type": "execute_result",
          "data": {
            "text/plain": [
              "[[5, 7, 9], [5, 7, 9]]"
            ]
          },
          "metadata": {},
          "execution_count": 2
        }
      ],
      "source": [
        "res = [[c+d for c, d in zip(a, b)] for a, b in zip(A, B)]\n",
        "res"
      ]
    },
    {
      "cell_type": "markdown",
      "metadata": {
        "id": "6r_1olRKycZC"
      },
      "source": [
        "##### numpy array라면 어떨까?"
      ]
    },
    {
      "cell_type": "code",
      "execution_count": 3,
      "metadata": {
        "ExecuteTime": {
          "end_time": "2021-02-02T02:18:04.679736Z",
          "start_time": "2021-02-02T02:18:04.670760Z"
        },
        "colab": {
          "base_uri": "https://localhost:8080/"
        },
        "id": "bWNeHBYeycZC",
        "outputId": "33bce77b-d327-41d1-e360-7927669fdc35"
      },
      "outputs": [
        {
          "output_type": "execute_result",
          "data": {
            "text/plain": [
              "array([[5, 7, 9],\n",
              "       [5, 7, 9]])"
            ]
          },
          "metadata": {},
          "execution_count": 3
        }
      ],
      "source": [
        "import numpy as np\n",
        "a = np.array(A)\n",
        "b = np.array(B)\n",
        "a+b"
      ]
    },
    {
      "cell_type": "markdown",
      "metadata": {
        "id": "swMQ7M0OycZD"
      },
      "source": [
        "### 행렬의 곱\n",
        "\n",
        "$$\n",
        "    \\begin{pmatrix}\n",
        "    1 & 2 & 3 \\\\\n",
        "    4 & 5 & 6 \\\\\n",
        "    \\end{pmatrix}\n",
        "    \\rm{x}\n",
        "    \\begin{pmatrix}\n",
        "    6 & 5 \\\\\n",
        "    4 & 3 \\\\\n",
        "    2 & 1 \\\\\n",
        "    \\end{pmatrix}\n",
        "$$"
      ]
    },
    {
      "cell_type": "markdown",
      "metadata": {
        "id": "U2WHR-SIycZE"
      },
      "source": [
        "#### 굳이 list로 만들어서 하겠다면..."
      ]
    },
    {
      "cell_type": "code",
      "execution_count": null,
      "metadata": {
        "ExecuteTime": {
          "end_time": "2021-02-02T02:22:58.702978Z",
          "start_time": "2021-02-02T02:22:58.683031Z"
        },
        "id": "zqNz8GKrycZE",
        "outputId": "3630b724-5a0c-4720-87eb-5349b2529815"
      },
      "outputs": [
        {
          "data": {
            "text/plain": [
              "[[20, 14], [56, 41]]"
            ]
          },
          "execution_count": 6,
          "metadata": {},
          "output_type": "execute_result"
        }
      ],
      "source": [
        "A = [[1, 2, 3], [4, 5, 6]]\n",
        "B = [[6, 5], [4, 3], [2, 1]]\n",
        "\n",
        "res = [[sum(a*b for a, b in zip(A_row,B_col)) for B_col in zip(*B)] for A_row in A]\n",
        "res"
      ]
    },
    {
      "cell_type": "markdown",
      "metadata": {
        "id": "ALVJ9553ycZE"
      },
      "source": [
        "##### zip(*)"
      ]
    },
    {
      "cell_type": "markdown",
      "metadata": {
        "id": "G24_8P6CycZF"
      },
      "source": [
        "$$\n",
        "    \\begin{pmatrix}\n",
        "    1 & 2 & 3 \\\\\n",
        "    4 & 5 & 6 \\\\\n",
        "    \\end{pmatrix}\n",
        "    →\n",
        "    \\begin{pmatrix}\n",
        "    1 & 4 \\\\\n",
        "    2 & 5 \\\\\n",
        "    3 & 6 \\\\\n",
        "    \\end{pmatrix}\n",
        "$$"
      ]
    },
    {
      "cell_type": "code",
      "execution_count": null,
      "metadata": {
        "ExecuteTime": {
          "end_time": "2021-02-02T02:24:12.352098Z",
          "start_time": "2021-02-02T02:24:12.347112Z"
        },
        "id": "9rJKjMCJycZF",
        "outputId": "0e8b6caf-f82a-4312-9ffc-bb9078388d1a"
      },
      "outputs": [
        {
          "data": {
            "text/plain": [
              "[[1, 2, 3], [4, 5, 6]]"
            ]
          },
          "execution_count": 7,
          "metadata": {},
          "output_type": "execute_result"
        }
      ],
      "source": [
        "ls = [[1, 2, 3], [4, 5, 6]]\n",
        "ls"
      ]
    },
    {
      "cell_type": "code",
      "execution_count": null,
      "metadata": {
        "ExecuteTime": {
          "end_time": "2021-02-02T02:25:56.448311Z",
          "start_time": "2021-02-02T02:25:56.436371Z"
        },
        "id": "n3vhhM0GycZF",
        "outputId": "d0e1c731-fdd4-4abc-e754-0ad87b8625e5"
      },
      "outputs": [
        {
          "data": {
            "text/plain": [
              "[[1, 4], [2, 5], [3, 6]]"
            ]
          },
          "execution_count": 13,
          "metadata": {},
          "output_type": "execute_result"
        }
      ],
      "source": [
        "ls2 = list(map(list, zip(*ls)))\n",
        "ls2"
      ]
    },
    {
      "cell_type": "markdown",
      "metadata": {
        "id": "B-HFHmKBycZG"
      },
      "source": [
        "#### numpy 곱"
      ]
    },
    {
      "cell_type": "code",
      "execution_count": null,
      "metadata": {
        "ExecuteTime": {
          "end_time": "2021-02-02T02:28:17.205716Z",
          "start_time": "2021-02-02T02:28:17.198762Z"
        },
        "id": "TGvyWFw6ycZG",
        "outputId": "4c209a4f-f091-495a-b06a-6734f2ea0414"
      },
      "outputs": [
        {
          "data": {
            "text/plain": [
              "array([[20, 14],\n",
              "       [56, 41]])"
            ]
          },
          "execution_count": 14,
          "metadata": {},
          "output_type": "execute_result"
        }
      ],
      "source": [
        "a = np.array(A)\n",
        "b = np.array(B)\n",
        "a@b"
      ]
    },
    {
      "cell_type": "code",
      "source": [
        "arr = np.array([[2,10,15],[1,2,3]])\n",
        "\n",
        "arr1 = np.array([1])\n",
        "\n",
        "arr2 = np.array([1,2,3])\n",
        "\n",
        "arr, arr1, arr2"
      ],
      "metadata": {
        "colab": {
          "base_uri": "https://localhost:8080/"
        },
        "id": "KhTU8Zmhz8uP",
        "outputId": "66d69c00-0b17-4f8d-9bff-b0af180a2444"
      },
      "execution_count": 5,
      "outputs": [
        {
          "output_type": "execute_result",
          "data": {
            "text/plain": [
              "(array([[ 2, 10, 15],\n",
              "        [ 1,  2,  3]]), array([1]), array([1, 2, 3]))"
            ]
          },
          "metadata": {},
          "execution_count": 5
        }
      ]
    },
    {
      "cell_type": "code",
      "source": [
        "arr.shape, arr1.shape, arr2.shape"
      ],
      "metadata": {
        "colab": {
          "base_uri": "https://localhost:8080/"
        },
        "id": "KPtMxJBc0fgd",
        "outputId": "742f30b0-ee36-460d-8309-4573ed78c443"
      },
      "execution_count": 6,
      "outputs": [
        {
          "output_type": "execute_result",
          "data": {
            "text/plain": [
              "((2, 3), (1,), (3,))"
            ]
          },
          "metadata": {},
          "execution_count": 6
        }
      ]
    },
    {
      "cell_type": "code",
      "source": [
        "arr + arr1"
      ],
      "metadata": {
        "colab": {
          "base_uri": "https://localhost:8080/"
        },
        "id": "j0QcDrD60nsT",
        "outputId": "2ce37502-629b-4e2f-c9c1-0d672c06021e"
      },
      "execution_count": 7,
      "outputs": [
        {
          "output_type": "execute_result",
          "data": {
            "text/plain": [
              "array([[ 3, 11, 16],\n",
              "       [ 2,  3,  4]])"
            ]
          },
          "metadata": {},
          "execution_count": 7
        }
      ]
    },
    {
      "cell_type": "markdown",
      "metadata": {
        "id": "QwGxSnGhycZG"
      },
      "source": [
        "#### 행렬 데이터의 결합\n",
        "    concatenate"
      ]
    },
    {
      "cell_type": "code",
      "execution_count": 10,
      "metadata": {
        "ExecuteTime": {
          "end_time": "2021-02-02T06:15:22.677293Z",
          "start_time": "2021-02-02T06:15:22.671310Z"
        },
        "id": "DYHxBQzJycZH"
      },
      "outputs": [],
      "source": [
        "r1 = np.array([[1, 9, 8], [7, 0, 2]])\n",
        "r2 = np.array([[1, 8], [2, 2], [0, 2]])\n",
        "r3 = np.array([[7, 6, 0], [3, 5, 4], [6, 7, 9]])"
      ]
    },
    {
      "cell_type": "code",
      "execution_count": 11,
      "metadata": {
        "ExecuteTime": {
          "end_time": "2021-02-02T06:16:08.473097Z",
          "start_time": "2021-02-02T06:16:08.464149Z"
        },
        "colab": {
          "base_uri": "https://localhost:8080/"
        },
        "id": "21PzrN23ycZH",
        "outputId": "81ccc03c-29d5-4854-a238-96e9626da570"
      },
      "outputs": [
        {
          "output_type": "execute_result",
          "data": {
            "text/plain": [
              "array([[1, 9, 8],\n",
              "       [7, 0, 2]])"
            ]
          },
          "metadata": {},
          "execution_count": 11
        }
      ],
      "source": [
        "r1"
      ]
    },
    {
      "cell_type": "code",
      "execution_count": 12,
      "metadata": {
        "ExecuteTime": {
          "end_time": "2021-02-02T06:16:10.770099Z",
          "start_time": "2021-02-02T06:16:10.760126Z"
        },
        "colab": {
          "base_uri": "https://localhost:8080/"
        },
        "id": "mhVTNsefycZH",
        "outputId": "353145af-4969-4579-f0f1-8a395ef51182"
      },
      "outputs": [
        {
          "output_type": "execute_result",
          "data": {
            "text/plain": [
              "array([[1, 8],\n",
              "       [2, 2],\n",
              "       [0, 2]])"
            ]
          },
          "metadata": {},
          "execution_count": 12
        }
      ],
      "source": [
        "r2"
      ]
    },
    {
      "cell_type": "code",
      "execution_count": 13,
      "metadata": {
        "ExecuteTime": {
          "end_time": "2021-02-02T06:16:17.605085Z",
          "start_time": "2021-02-02T06:16:17.588134Z"
        },
        "colab": {
          "base_uri": "https://localhost:8080/"
        },
        "id": "5Yc5nsw9ycZI",
        "outputId": "f1098a88-09fc-43fb-82ee-a78f6455e03a"
      },
      "outputs": [
        {
          "output_type": "execute_result",
          "data": {
            "text/plain": [
              "array([[7, 6, 0],\n",
              "       [3, 5, 4],\n",
              "       [6, 7, 9]])"
            ]
          },
          "metadata": {},
          "execution_count": 13
        }
      ],
      "source": [
        "r3"
      ]
    },
    {
      "cell_type": "code",
      "execution_count": 18,
      "metadata": {
        "ExecuteTime": {
          "end_time": "2021-02-02T06:16:45.873753Z",
          "start_time": "2021-02-02T06:16:45.861756Z"
        },
        "colab": {
          "base_uri": "https://localhost:8080/"
        },
        "id": "Rklrpq_WycZI",
        "outputId": "6e7388db-21dc-4a7a-e17b-3e2447db9f98"
      },
      "outputs": [
        {
          "output_type": "execute_result",
          "data": {
            "text/plain": [
              "array([[1, 9, 8],\n",
              "       [7, 0, 2],\n",
              "       [7, 6, 0],\n",
              "       [3, 5, 4],\n",
              "       [6, 7, 9]])"
            ]
          },
          "metadata": {},
          "execution_count": 18
        }
      ],
      "source": [
        "np.concatenate((r1, r3),axis = 0)"
      ]
    },
    {
      "cell_type": "code",
      "execution_count": 20,
      "metadata": {
        "ExecuteTime": {
          "end_time": "2021-02-02T06:17:02.178189Z",
          "start_time": "2021-02-02T06:17:02.163237Z"
        },
        "colab": {
          "base_uri": "https://localhost:8080/"
        },
        "id": "2ybdq2dfycZI",
        "outputId": "deaae045-ea78-4fb8-fd84-8b91fe248c44"
      },
      "outputs": [
        {
          "output_type": "execute_result",
          "data": {
            "text/plain": [
              "array([[1, 8, 7, 6, 0],\n",
              "       [2, 2, 3, 5, 4],\n",
              "       [0, 2, 6, 7, 9]])"
            ]
          },
          "metadata": {},
          "execution_count": 20
        }
      ],
      "source": [
        "np.concatenate((r2, r3), axis=1)\n",
        "#np.hstack([r1,r3])\n",
        "np.c_[r2,r3]"
      ]
    },
    {
      "cell_type": "code",
      "execution_count": null,
      "metadata": {
        "ExecuteTime": {
          "end_time": "2021-02-02T06:18:47.460676Z",
          "start_time": "2021-02-02T06:18:47.453693Z"
        },
        "id": "RIjRmZmTycZI",
        "outputId": "aea75106-fd24-40d8-8c67-20f475695d63"
      },
      "outputs": [
        {
          "data": {
            "text/plain": [
              "array([[1, 4],\n",
              "       [2, 5],\n",
              "       [3, 6]])"
            ]
          },
          "execution_count": 36,
          "metadata": {},
          "output_type": "execute_result"
        }
      ],
      "source": [
        "ls1 = np.array([1, 2, 3])\n",
        "ls2 = np.array([4, 5, 6])\n",
        "np.c_[ls1, ls2]"
      ]
    },
    {
      "cell_type": "code",
      "execution_count": null,
      "metadata": {
        "ExecuteTime": {
          "end_time": "2021-02-02T06:18:53.783295Z",
          "start_time": "2021-02-02T06:18:53.779316Z"
        },
        "id": "GPnXxM78ycZI",
        "outputId": "f44117f7-4ae4-45cf-b03f-3bbcc8854315"
      },
      "outputs": [
        {
          "data": {
            "text/plain": [
              "array([1, 2, 3, 4, 5, 6])"
            ]
          },
          "execution_count": 37,
          "metadata": {},
          "output_type": "execute_result"
        }
      ],
      "source": [
        "np.r_[ls1, ls2]"
      ]
    },
    {
      "cell_type": "markdown",
      "metadata": {
        "id": "RQ97psZrycZJ"
      },
      "source": [
        "### Quiz\n",
        "    위 행렬의 곱을 for문으로 작성하면?"
      ]
    },
    {
      "cell_type": "code",
      "execution_count": null,
      "metadata": {
        "ExecuteTime": {
          "end_time": "2021-02-02T03:29:52.528895Z",
          "start_time": "2021-02-02T03:29:52.513896Z"
        },
        "id": "W1Edn-dfycZJ",
        "outputId": "6a7271f5-183c-4f88-c151-0fae90eb4de1"
      },
      "outputs": [
        {
          "name": "stdout",
          "output_type": "stream",
          "text": [
            "2 3\n"
          ]
        }
      ],
      "source": [
        "A = [[1, 2, 3], [4, 5, 6]]\n",
        "B = [[6, 5],[4, 3], [2, 1]]\n",
        "print(len(A), len(B))"
      ]
    },
    {
      "cell_type": "code",
      "execution_count": null,
      "metadata": {
        "ExecuteTime": {
          "end_time": "2021-02-02T03:32:52.050689Z",
          "start_time": "2021-02-02T03:32:52.038717Z"
        },
        "id": "LHk31TbcycZJ",
        "outputId": "5d5b2ea0-907e-4b96-91ad-3e93e6cec6ba"
      },
      "outputs": [
        {
          "data": {
            "text/plain": [
              "[[20, 14], [56, 41]]"
            ]
          },
          "execution_count": 24,
          "metadata": {},
          "output_type": "execute_result"
        }
      ],
      "source": [
        "res = [[0 for i in range(len(B[0]))]for _ in range(len(A))]\n",
        "for i in range(len(A)): # 행\n",
        "    for j in range(len(B[0])): # 행\n",
        "        for k in range(len(A[0])):\n",
        "            res[i][j] += A[i][k] * B[k][j]\n",
        "            \n",
        "res"
      ]
    },
    {
      "cell_type": "code",
      "source": [
        "a = np.arange(0,9).reshape(3,3)\n",
        "a"
      ],
      "metadata": {
        "colab": {
          "base_uri": "https://localhost:8080/"
        },
        "id": "1pgA6zKR3Bgz",
        "outputId": "58e9cafe-32d2-421a-8f75-97113c9cbf76"
      },
      "execution_count": 21,
      "outputs": [
        {
          "output_type": "execute_result",
          "data": {
            "text/plain": [
              "array([[0, 1, 2],\n",
              "       [3, 4, 5],\n",
              "       [6, 7, 8]])"
            ]
          },
          "metadata": {},
          "execution_count": 21
        }
      ]
    },
    {
      "cell_type": "code",
      "source": [
        "a[0], a[:,:2], a[1,:2]"
      ],
      "metadata": {
        "colab": {
          "base_uri": "https://localhost:8080/"
        },
        "id": "0lwuDzRD3Gzx",
        "outputId": "45a22ec9-6bed-43c8-fbe5-7f7bc824e7cf"
      },
      "execution_count": 22,
      "outputs": [
        {
          "output_type": "execute_result",
          "data": {
            "text/plain": [
              "(array([0, 1, 2]), array([[0, 1],\n",
              "        [3, 4],\n",
              "        [6, 7]]), array([3, 4]))"
            ]
          },
          "metadata": {},
          "execution_count": 22
        }
      ]
    },
    {
      "cell_type": "code",
      "source": [
        ""
      ],
      "metadata": {
        "id": "tSgvmCEd3QTZ"
      },
      "execution_count": null,
      "outputs": []
    }
  ],
  "metadata": {
    "hide_input": false,
    "kernelspec": {
      "display_name": "Python 3",
      "language": "python",
      "name": "python3"
    },
    "language_info": {
      "codemirror_mode": {
        "name": "ipython",
        "version": 3
      },
      "file_extension": ".py",
      "mimetype": "text/x-python",
      "name": "python",
      "nbconvert_exporter": "python",
      "pygments_lexer": "ipython3",
      "version": "3.8.5"
    },
    "toc": {
      "base_numbering": 1,
      "nav_menu": {},
      "number_sections": true,
      "sideBar": true,
      "skip_h1_title": false,
      "title_cell": "Table of Contents",
      "title_sidebar": "Contents",
      "toc_cell": false,
      "toc_position": {},
      "toc_section_display": true,
      "toc_window_display": false
    },
    "varInspector": {
      "cols": {
        "lenName": 16,
        "lenType": 16,
        "lenVar": 40
      },
      "kernels_config": {
        "python": {
          "delete_cmd_postfix": "",
          "delete_cmd_prefix": "del ",
          "library": "var_list.py",
          "varRefreshCmd": "print(var_dic_list())"
        },
        "r": {
          "delete_cmd_postfix": ") ",
          "delete_cmd_prefix": "rm(",
          "library": "var_list.r",
          "varRefreshCmd": "cat(var_dic_list()) "
        }
      },
      "types_to_exclude": [
        "module",
        "function",
        "builtin_function_or_method",
        "instance",
        "_Feature"
      ],
      "window_display": false
    },
    "colab": {
      "name": "lesson 02. numpy 2 - matrix operation, quiz.ipynb",
      "provenance": [],
      "include_colab_link": true
    }
  },
  "nbformat": 4,
  "nbformat_minor": 0
}